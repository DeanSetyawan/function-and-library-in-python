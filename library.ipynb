{
  "nbformat": 4,
  "nbformat_minor": 0,
  "metadata": {
    "colab": {
      "name": "path.ipynb",
      "provenance": []
    },
    "kernelspec": {
      "name": "python3",
      "display_name": "Python 3"
    },
    "language_info": {
      "name": "python"
    }
  },
  "cells": [
    {
      "cell_type": "markdown",
      "source": [
        "OS Path"
      ],
      "metadata": {
        "id": "cg-Rf8VnWSYf"
      }
    },
    {
      "cell_type": "code",
      "source": [
        "import os\n",
        "\n",
        "if os.path.isfile('log.txt'):\n",
        "  writefile = open('log.txt','a')\n",
        "else:\n",
        "  writefile = open('log.txt','w')\n",
        "\n",
        "tolog = input(\"Masukkan angka \")\n",
        "writefile.write(\"\\n\"+tolog)\n",
        "writefile.close()"
      ],
      "metadata": {
        "id": "aEhEv_weWS2M"
      },
      "execution_count": null,
      "outputs": []
    },
    {
      "cell_type": "markdown",
      "source": [
        ""
      ],
      "metadata": {
        "id": "7rLKy7JAXJWm"
      }
    },
    {
      "cell_type": "markdown",
      "source": [
        "txt delete"
      ],
      "metadata": {
        "id": "f3peg61sX2RA"
      }
    },
    {
      "cell_type": "code",
      "source": [
        "import os"
      ],
      "metadata": {
        "id": "kZw9_1BaWTI1"
      },
      "execution_count": null,
      "outputs": []
    },
    {
      "cell_type": "code",
      "source": [
        "if os.path.isfile('login.txt'):\n",
        "  os.remove('login.txt')\n",
        "  print(\"berhasil\")\n",
        "else:\n",
        "  print(\"gagal\")"
      ],
      "metadata": {
        "id": "eGYUr3JaWTL8"
      },
      "execution_count": null,
      "outputs": []
    },
    {
      "cell_type": "markdown",
      "source": [
        "the purpose of the program code above is that if there is a file referred to in the program code (login.txt) it will be deleted. if successful it will display the word 'berhasil' otherwise 'gagal'"
      ],
      "metadata": {
        "id": "GBaiF56DX8xp"
      }
    },
    {
      "cell_type": "markdown",
      "source": [
        "os tambahan (membuat folder)"
      ],
      "metadata": {
        "id": "AGvxJDB8Y881"
      }
    },
    {
      "cell_type": "code",
      "source": [
        "import os\n",
        "\n",
        "dirname = input(\"Masukkan nama folder \")\n",
        "os.mkdir(dirname)\n",
        "print(\"directory created\")"
      ],
      "metadata": {
        "id": "Wb2-irYlWTRw"
      },
      "execution_count": null,
      "outputs": []
    },
    {
      "cell_type": "markdown",
      "source": [
        "math lib"
      ],
      "metadata": {
        "id": "DBxWPkqVZKGY"
      }
    },
    {
      "cell_type": "code",
      "source": [
        "import math\n",
        "\n",
        "pi = math.pi\n",
        "\n",
        "print(pi)"
      ],
      "metadata": {
        "colab": {
          "base_uri": "https://localhost:8080/"
        },
        "id": "T0A-NPa2WTWG",
        "outputId": "326c84fa-5afe-43b9-9147-b9ae7686ea64"
      },
      "execution_count": 1,
      "outputs": [
        {
          "output_type": "stream",
          "name": "stdout",
          "text": [
            "3.141592653589793\n"
          ]
        }
      ]
    },
    {
      "cell_type": "markdown",
      "source": [
        "rounding up and down using math lib"
      ],
      "metadata": {
        "id": "PywoWlh7Zzmp"
      }
    },
    {
      "cell_type": "code",
      "source": [
        "upperbound = math.ceil(pi)\n",
        "print(upperbound)"
      ],
      "metadata": {
        "id": "YlyeM4xgZcLm"
      },
      "execution_count": null,
      "outputs": []
    },
    {
      "cell_type": "code",
      "source": [
        "lowerbound = math.floor(pi)\n",
        "print(lowerbound)"
      ],
      "metadata": {
        "id": "uxSlMZs5Zcal"
      },
      "execution_count": null,
      "outputs": []
    },
    {
      "cell_type": "markdown",
      "source": [
        "Example of finding the circumference of a circle using math lib"
      ],
      "metadata": {
        "id": "xD3kyQ62aEfo"
      }
    },
    {
      "cell_type": "code",
      "source": [
        "r = 2\n",
        "keliling = 2 * pi * r\n",
        "print(keliling)"
      ],
      "metadata": {
        "id": "FKtyn18gZci-"
      },
      "execution_count": null,
      "outputs": []
    },
    {
      "cell_type": "markdown",
      "source": [
        "date time lib"
      ],
      "metadata": {
        "id": "9J--h1dPacey"
      }
    },
    {
      "cell_type": "code",
      "source": [
        "import datetime\n",
        "today = datetime.datetime.today()\n",
        "print(today)"
      ],
      "metadata": {
        "id": "7_FoXOfxaS8j"
      },
      "execution_count": null,
      "outputs": []
    },
    {
      "cell_type": "code",
      "source": [
        "todaywithouttime = datetime.date.today()\n",
        "print(todaywithouttime)"
      ],
      "metadata": {
        "id": "JgiXfDgYaTCi"
      },
      "execution_count": null,
      "outputs": []
    },
    {
      "cell_type": "code",
      "source": [
        "formattingtime = datetime.datetime.strftime(today, \"%H: %M: %S\")\n",
        "print(formattingtime)"
      ],
      "metadata": {
        "id": "XdBoVT5ZatlJ"
      },
      "execution_count": null,
      "outputs": []
    },
    {
      "cell_type": "code",
      "source": [
        "formattingtime1 = datetime.datetime.strftime(todaywithouttime, \"%d/%m/%y\")\n",
        "print(formattingtime1)"
      ],
      "metadata": {
        "id": "DKwY4TeSazTs"
      },
      "execution_count": null,
      "outputs": []
    },
    {
      "cell_type": "markdown",
      "source": [
        "Random lib"
      ],
      "metadata": {
        "id": "NaeVxyw_bBiS"
      }
    },
    {
      "cell_type": "code",
      "source": [
        "from random import randint\n",
        "for i in range(1,11):\n",
        "  print(f\"Random num {i} is {randint(1,10)}\")"
      ],
      "metadata": {
        "id": "QYS9U1tNazYS"
      },
      "execution_count": null,
      "outputs": []
    },
    {
      "cell_type": "markdown",
      "source": [
        "the purpose of the code above is that a number with a range of 1-10 will be displayed and it will display a random number that has been set, which is between 1-9"
      ],
      "metadata": {
        "id": "DnaYvytFbNFX"
      }
    },
    {
      "cell_type": "markdown",
      "source": [
        "sys lib"
      ],
      "metadata": {
        "id": "r1VpAqHGcLI5"
      }
    },
    {
      "cell_type": "code",
      "source": [
        "import sys"
      ],
      "metadata": {
        "id": "WELriuv_dobq"
      },
      "execution_count": 4,
      "outputs": []
    },
    {
      "cell_type": "code",
      "source": [
        "a = float(input(\"Masukkan angka pertama\"))\n",
        "b = float(input(\"Masukkan angka kedua\"))\n",
        "\n",
        "try:\n",
        "  print(f\"the answer is {a/b}\")\n",
        "except:\n",
        "  print(sys.exc_info()[0])\n",
        "  print(\"This did not work did you try to devide by zero or something?\")\n",
        "else:\n",
        "  print(\"You successfully used division feature in python\")\n",
        "finally:\n",
        "  print(\"Thank you for playing\")"
      ],
      "metadata": {
        "colab": {
          "base_uri": "https://localhost:8080/"
        },
        "id": "wFv-wxCNbFOC",
        "outputId": "a6f1b83b-11c9-4d05-dfd8-ea89c897bcb1"
      },
      "execution_count": 5,
      "outputs": [
        {
          "output_type": "stream",
          "name": "stdout",
          "text": [
            "Masukkan angka pertama12\n",
            "Masukkan angka kedua1\n",
            "the answer is 12.0\n",
            "You successfully used division feature in python\n",
            "Thank you for playing\n"
          ]
        }
      ]
    },
    {
      "cell_type": "markdown",
      "source": [
        "the code will display the result of the division of a / b. if we input a number divided by 0 then an error will occur and will display an error message according to what we set"
      ],
      "metadata": {
        "id": "8JIaNAzYcY3k"
      }
    },
    {
      "cell_type": "code",
      "source": [
        ""
      ],
      "metadata": {
        "id": "MN8Y02BhbFW9"
      },
      "execution_count": null,
      "outputs": []
    },
    {
      "cell_type": "code",
      "source": [
        ""
      ],
      "metadata": {
        "id": "VpFAdYfFbFc8"
      },
      "execution_count": null,
      "outputs": []
    },
    {
      "cell_type": "code",
      "source": [
        ""
      ],
      "metadata": {
        "id": "Dqcatve2bFr5"
      },
      "execution_count": null,
      "outputs": []
    },
    {
      "cell_type": "code",
      "source": [
        ""
      ],
      "metadata": {
        "id": "TOApKQKDbF-A"
      },
      "execution_count": null,
      "outputs": []
    }
  ]
}