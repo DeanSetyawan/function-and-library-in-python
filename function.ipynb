{
  "nbformat": 4,
  "nbformat_minor": 0,
  "metadata": {
    "colab": {
      "name": "Untitled48.ipynb",
      "provenance": [],
      "collapsed_sections": []
    },
    "kernelspec": {
      "name": "python3",
      "display_name": "Python 3"
    },
    "language_info": {
      "name": "python"
    }
  },
  "cells": [
    {
      "cell_type": "markdown",
      "source": [
        "#function\n",
        "--------\n",
        "function in python divided in 2 type:\n",
        "\n",
        "1. def is a keyword that define function in python. so, def use for make a function different with write formula manual. with def feature we can make formula in the beginning and call it with name of the function with its parameter inside parentheses beside function name\n",
        "\n",
        "\n",
        "2. a lambda function is just like any normal python function, except that it has no name when defining it, and it is contained in one line of code"
      ],
      "metadata": {
        "id": "T0W0Mmm5CqaJ"
      }
    },
    {
      "cell_type": "markdown",
      "source": [
        "#def"
      ],
      "metadata": {
        "id": "nsb1eB0jYwGG"
      }
    },
    {
      "cell_type": "code",
      "source": [
        "def function_name(parameter):\n",
        "  variabel=your_function\n",
        "  return variabel"
      ],
      "metadata": {
        "id": "6mYw0fj9B11m"
      },
      "execution_count": null,
      "outputs": []
    },
    {
      "cell_type": "code",
      "source": [
        "def exponential(x,y):\n",
        "  quadratic=x**y\n",
        "  return quadratic\n",
        "\n",
        "print(exponential(2,3))"
      ],
      "metadata": {
        "id": "vWkOkQ4rCp7I",
        "colab": {
          "base_uri": "https://localhost:8080/"
        },
        "outputId": "1dcb8928-9538-4bab-d645-e879091e9969"
      },
      "execution_count": null,
      "outputs": [
        {
          "output_type": "stream",
          "name": "stdout",
          "text": [
            "8\n"
          ]
        }
      ]
    },
    {
      "cell_type": "code",
      "source": [
        "def hobby(x):\n",
        "  hobby_user=\"halo {}! your hobby is {}\".format(a,x)\n",
        "  return hobby_user\n",
        "\n",
        "a=input(\"your name= \")\n",
        "x=input(\"your hobby= \")\n",
        "\n",
        "print(hobby(x))"
      ],
      "metadata": {
        "colab": {
          "base_uri": "https://localhost:8080/"
        },
        "id": "aIFvwbvzLI6A",
        "outputId": "d21b95bf-01c9-4bbb-ba2b-b236a2f596eb"
      },
      "execution_count": null,
      "outputs": [
        {
          "output_type": "stream",
          "name": "stdout",
          "text": [
            "your name= dean\n",
            "your hobby= reading\n",
            "halo dean! your hobby is reading\n"
          ]
        }
      ]
    },
    {
      "cell_type": "markdown",
      "source": [
        "if we use print instead of return"
      ],
      "metadata": {
        "id": "0e3jwDpcHyur"
      }
    },
    {
      "cell_type": "code",
      "source": [
        "def exponential(x,y):\n",
        "  quadratic=x**y\n",
        "  print(quadratic)\n",
        "\n",
        "exponential(2,3)"
      ],
      "metadata": {
        "id": "uM-FKNhYDnlV",
        "colab": {
          "base_uri": "https://localhost:8080/"
        },
        "outputId": "a16be239-ff57-4535-cb9b-21f9a6cbf9d0"
      },
      "execution_count": 2,
      "outputs": [
        {
          "output_type": "stream",
          "name": "stdout",
          "text": [
            "8\n"
          ]
        }
      ]
    },
    {
      "cell_type": "code",
      "source": [
        "def fun_looping(n):\n",
        "  if 0<=n<=100:\n",
        "    for i in range(n):\n",
        "      if i%2==0:\n",
        "        print(f\"{i} is an even number\")\n",
        "      else:\n",
        "        print(f\"{i} is an odd number\")  \n",
        "  else:\n",
        "    while n>100:\n",
        "      print(n)\n",
        "      n-=100     \n",
        "       \n",
        "n=int(input(\"n= \"))\n",
        "fun_looping(n)"
      ],
      "metadata": {
        "colab": {
          "base_uri": "https://localhost:8080/"
        },
        "id": "VuCvwHg4N9GU",
        "outputId": "bae7284e-fcd7-463f-acec-194567a56863"
      },
      "execution_count": null,
      "outputs": [
        {
          "output_type": "stream",
          "name": "stdout",
          "text": [
            "n= 300\n",
            "300\n",
            "200\n"
          ]
        }
      ]
    },
    {
      "cell_type": "markdown",
      "source": [
        "iterable parameter need a special symbol to make it as iterable operator and not as single parameter. symbol for dictionary is ** and other iterable parameter is *"
      ],
      "metadata": {
        "id": "umKh7hgCYk7u"
      }
    },
    {
      "cell_type": "code",
      "source": [
        "def info(*position,**dictionary):\n",
        "  for i in position:\n",
        "    print(\"argument position is \",i)\n",
        "  for key, value in dictionary.items():\n",
        "    print(\"argument key word {}:{}\".format(key,value))\n",
        "\n",
        "info(\"one\",key=\"two\",value=\"3\")"
      ],
      "metadata": {
        "colab": {
          "base_uri": "https://localhost:8080/"
        },
        "id": "lzv_lURNYjZx",
        "outputId": "b44d32bf-65a0-47d2-c559-af3f51681a80"
      },
      "execution_count": 13,
      "outputs": [
        {
          "output_type": "stream",
          "name": "stdout",
          "text": [
            "argument position is  one\n",
            "argument key word key:two\n",
            "argument key word value:3\n"
          ]
        }
      ]
    },
    {
      "cell_type": "markdown",
      "source": [
        "#lambda"
      ],
      "metadata": {
        "id": "YOF_GTiEcYah"
      }
    },
    {
      "cell_type": "code",
      "source": [
        "energy= lambda momentum,massa,potensial:(momentum/(2*massa))+potensial\n",
        "\n",
        "energy(20,10,5)"
      ],
      "metadata": {
        "colab": {
          "base_uri": "https://localhost:8080/"
        },
        "id": "ux0c2WHCcdXs",
        "outputId": "4e189cb0-415f-44c0-bfbf-e4a97343f1f5"
      },
      "execution_count": 15,
      "outputs": [
        {
          "output_type": "execute_result",
          "data": {
            "text/plain": [
              "6.0"
            ]
          },
          "metadata": {},
          "execution_count": 15
        }
      ]
    }
  ]
}