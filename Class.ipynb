{
  "nbformat": 4,
  "nbformat_minor": 0,
  "metadata": {
    "colab": {
      "name": "Class.ipynb",
      "provenance": [],
      "collapsed_sections": []
    },
    "kernelspec": {
      "name": "python3",
      "display_name": "Python 3"
    },
    "language_info": {
      "name": "python"
    }
  },
  "cells": [
    {
      "cell_type": "markdown",
      "source": [
        "# **class**\n",
        "In Python, classes are defined using the class keyword.\n",
        "Class is made to represent a certain object, so it will be\n",
        "assist in the process of solving complex problems by\n",
        "State the physical characteristics of a problem. Classes in Python\n",
        "The default has a public Access Specifier.\n",
        "\n",
        "Inside the class there are class variables. A class variable is a variable that\n",
        "shared or shared by all instances (children) of the class. class variable\n",
        "defined inside the class, but outside the methods in the class\n",
        "the.\n",
        "\n",
        "Then there is the object. Object is an instance or\n",
        "embodiment of a class. If class is the prototype, and object\n",
        "is the finished product."
      ],
      "metadata": {
        "id": "MEpMEInPZfSG"
      }
    },
    {
      "cell_type": "code",
      "execution_count": 14,
      "metadata": {
        "colab": {
          "base_uri": "https://localhost:8080/"
        },
        "id": "iYwj6673ZeRp",
        "outputId": "790d2c1c-8608-48eb-ca1a-0d2b84ed69e4"
      },
      "outputs": [
        {
          "output_type": "stream",
          "name": "stdout",
          "text": [
            "Total feet of cat is :  4\n",
            "Total feet of chicken is :  2\n"
          ]
        }
      ],
      "source": [
        "from abc import ABC,abstractmethod\n",
        "class phona(ABC):\n",
        "  @abstractmethod\n",
        "  def total_feet(self):\n",
        "    pass\n",
        "\n",
        "class cat(phona):\n",
        "  def total_feet(self,total_feet1):\n",
        "    print(\"Total feet of cat is : \",total_feet1)\n",
        "\n",
        "class chicken(phona):\n",
        "  def total_feet(self,total_feet2):\n",
        "    print(\"Total feet of chicken is : \",total_feet2)\n",
        "\n",
        "animal1 = cat()\n",
        "animal2 = chicken()\n",
        "\n",
        "animal1.total_feet(4)\n",
        "animal2.total_feet(2)"
      ]
    },
    {
      "cell_type": "markdown",
      "source": [
        "## **Constructor Method** \n",
        "The constructor method is a special method used\n",
        "Python to initialize the creation of an object of a class.\n",
        "The constructor method is defined as the \"__init__()\" function, which\n",
        "always executed when the class is being started. Function \"__init__()\n",
        "function to assign values ​​to object properties, or\n",
        "other operations that need to be performed when the object is created.\n",
        "\n",
        "In the above source code “self” is the reference parameter to\n",
        "instance of the current class, and is used to access variables that\n",
        "included in the class. The parameter does not have to be named \"self\",\n",
        "user can name any user, but the parameter must be\n",
        "the first parameter of each function in the class.\n",
        "Then the way to call a class is slightly different from\n",
        "when we call the function. In order to summon a class, we must\n",
        "first declare an object as in the example above\n",
        "\"p1\". After successfully creating an object, we can display the contents of the\n",
        "class with the command \"print(ObjectName.MethodeName)\""
      ],
      "metadata": {
        "id": "2Oskmc0ko7kS"
      }
    },
    {
      "cell_type": "code",
      "source": [
        "class pople:\n",
        "  count = 0\n",
        "  def __init__(self, name, old):\n",
        "    self.name = name\n",
        "    self.old = old\n",
        "  count += 1\n",
        "p1=pople(\"ryan\",20)\n",
        "print(p1.name)\n",
        "print(p1.old)\n",
        "print(p1.count)"
      ],
      "metadata": {
        "colab": {
          "base_uri": "https://localhost:8080/"
        },
        "id": "vP-TemXjZrDM",
        "outputId": "ba353c56-1819-4d6f-d70f-f4220afdfd0b"
      },
      "execution_count": 3,
      "outputs": [
        {
          "output_type": "stream",
          "name": "stdout",
          "text": [
            "ryan\n",
            "20\n",
            "1\n"
          ]
        }
      ]
    },
    {
      "cell_type": "markdown",
      "source": [
        "The Quadrilateral class defined above has two attributes\n",
        "(length and width) and three methods: __init__(), area(), and\n",
        "around().\n",
        "The __init__() method inside the class works to do\n",
        "initialization or filling the required initial value. This method will\n",
        "acts as a constructor. In the __init__ method there are three\n",
        "parameters, namely self, p, and l. The first parameter, self, must be included\n",
        "OBJECT ORIENTED PROBRAMING MODULE 84\n",
        "for each method defined inside the class and not necessary\n",
        "mentioned at the time of call. The meaning of self in Python is the same\n",
        "like this in Java and C++.\n",
        "To define or access the attributes of a class, we\n",
        "also need to use the keyword self. For example, in the code in\n",
        "above we define two attributes in the Quadrilateral class, namely\n",
        "width is taken from parameter l. Thus, writing the code\n",
        "done in the following way:"
      ],
      "metadata": {
        "id": "6gDL1v1cp6lP"
      }
    },
    {
      "cell_type": "code",
      "source": [
        "class rectangular :\n",
        "  def __init__(self,p,l):\n",
        "    self.tlong = p\n",
        "    self.wide = l\n",
        "  def large(self):\n",
        "    return self.tlong *self.wide\n",
        "  def aroung(self):\n",
        "    return 2 *(self.tlong +self.wide)\n",
        "obj = rectangular(8,6)\n",
        "print(obj.large())\n",
        "print(obj.aroung())"
      ],
      "metadata": {
        "colab": {
          "base_uri": "https://localhost:8080/"
        },
        "id": "I9B6teIgcJbw",
        "outputId": "8b22b265-4e23-4e1a-8bc6-f266b109c10a"
      },
      "execution_count": 4,
      "outputs": [
        {
          "output_type": "stream",
          "name": "stdout",
          "text": [
            "48\n",
            "28\n"
          ]
        }
      ]
    },
    {
      "cell_type": "code",
      "source": [
        "class sunmation():\n",
        "  def add(self,*args):\n",
        "    result = 0\n",
        "    for i in args:\n",
        "      if type (i==int):\n",
        "        result+=i\n",
        "    return result\n",
        "obj_1 = sunmation()\n",
        "print(obj_1.add(3,1,3))\n",
        "print(obj_1.add(3,1))"
      ],
      "metadata": {
        "colab": {
          "base_uri": "https://localhost:8080/"
        },
        "id": "bPqNLQJKdu6B",
        "outputId": "4f78a9bb-dda6-4f67-b319-659b03526cf8"
      },
      "execution_count": 5,
      "outputs": [
        {
          "output_type": "stream",
          "name": "stdout",
          "text": [
            "7\n",
            "4\n"
          ]
        }
      ]
    },
    {
      "cell_type": "code",
      "source": [
        "class calculator:\n",
        "    def __init__(self,count1,count2,count3):\n",
        "        self.count1 =count1\n",
        "        self.count2 =count2\n",
        "        self.count3 =count3\n",
        "        \n",
        "        \n",
        "    @classmethod\n",
        "    def number(cls, count1, count2, count3):\n",
        "        cls.akunitt=count1 * count2 - count1 + count2/count2\n",
        "        return cls.akunitt"
      ],
      "metadata": {
        "id": "CbVEMHTQexH9"
      },
      "execution_count": 12,
      "outputs": []
    },
    {
      "cell_type": "code",
      "source": [
        "\n",
        "k =calculator('count1','count2','count3')\n",
        "k.number(1,4,3)"
      ],
      "metadata": {
        "colab": {
          "base_uri": "https://localhost:8080/"
        },
        "id": "TguLoX7cflhK",
        "outputId": "e9c3b09a-4889-4434-8726-d0b0bf7c8180"
      },
      "execution_count": 13,
      "outputs": [
        {
          "output_type": "execute_result",
          "data": {
            "text/plain": [
              "4.0"
            ]
          },
          "metadata": {},
          "execution_count": 13
        }
      ]
    },
    {
      "cell_type": "markdown",
      "source": [
        "## **Abstract Class**\n",
        "Abstract class is a class in which there is one or more\n",
        "more abstract methods. An abstract method is a method that\n",
        "declared but does not have any implementation. More\n",
        "an abstract class is arguably a blueprint for\n",
        "create another class. So that an instance of an abstract class\n",
        "is not an object but another class. Python by\n",
        "default doesn't actually provide abstract classes, but there are\n",
        "a module that can be used to create an abstract class is module\n",
        "ABC or abstract base class."
      ],
      "metadata": {
        "id": "njio3DEBqT8i"
      }
    }
  ]
}