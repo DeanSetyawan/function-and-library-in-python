{
  "nbformat": 4,
  "nbformat_minor": 0,
  "metadata": {
    "colab": {
      "name": "Untitled49.ipynb",
      "provenance": []
    },
    "kernelspec": {
      "name": "python3",
      "display_name": "Python 3"
    },
    "language_info": {
      "name": "python"
    }
  },
  "cells": [
    {
      "cell_type": "markdown",
      "source": [
        "#fun project"
      ],
      "metadata": {
        "id": "2IVMnCuu811l"
      }
    },
    {
      "cell_type": "code",
      "execution_count": null,
      "metadata": {
        "id": "if_AKyCZ8zLq"
      },
      "outputs": [],
      "source": [
        "from datetime import date\n",
        "\n",
        "def birthday(tgl,bln,tahun):\n",
        "  birth=\"tanggal lahir {} adalah tanggal {} bulan {} tahun {}\".format(nama,tgl,bln,tahun)\n",
        "  return birth\n",
        "\n",
        "nama=input(\"masukan nama anda= \")\n",
        "tgl=int(input(\"masukan tanggal lahir anda= \"))\n",
        "bln=int(input(\"masukan bulan lahir anda(enter number month not month name)= \"))\n",
        "tahun=int(input(\"masukan tahun lahir anda= \"))\n",
        "\n",
        "a=birthday(tgl,bln,tahun)\n",
        "b=date.today()\n",
        "c=int(b.day)\n",
        "d=int(b.month)\n",
        "e=int(b.year)\n",
        "f=date(tahun,bln,tgl)\n",
        "g=(b-f)\n",
        "\n",
        "print(birthday(tgl,bln,tahun))\n",
        "\n",
        "if (tgl==c and bln==d):\n",
        "  print(\"selamat ulang tahun\")\n",
        "  print(\"umur anda adalah \",e-tahun)\n",
        "else:\n",
        "  print(\"anda belum berulang tahun\")\n",
        "  print(\"usia anda adalah \",g)"
      ]
    }
  ]
}